{
 "cells": [
  {
   "cell_type": "markdown",
   "metadata": {},
   "source": [
    "# Load Data"
   ]
  },
  {
   "cell_type": "code",
   "execution_count": null,
   "metadata": {},
   "outputs": [],
   "source": [
    "import scipy.io\n",
    "import pandas as pd\n",
    "import matplotlib.pyplot as plt\n",
    "import os\n",
    "from PIL import Image, ImageOps\n",
    "import re\n",
    "import numpy as np"
   ]
  },
  {
   "cell_type": "code",
   "execution_count": null,
   "metadata": {},
   "outputs": [],
   "source": [
    "rnd_seed = 1234\n",
    "np.random.seed(rnd_seed)"
   ]
  },
  {
   "cell_type": "code",
   "execution_count": null,
   "metadata": {},
   "outputs": [],
   "source": [
    "# define path to data\n",
    "images_path = '../Files/102flowers/jpg'\n",
    "labels_path = '../Files/imagelabels.mat'"
   ]
  },
  {
   "cell_type": "markdown",
   "metadata": {},
   "source": [
    "## Labels"
   ]
  },
  {
   "cell_type": "code",
   "execution_count": null,
   "metadata": {},
   "outputs": [],
   "source": [
    "labels = scipy.io.loadmat(labels_path)\n",
    "labels_org = pd.DataFrame(labels['labels'])"
   ]
  },
  {
   "cell_type": "code",
   "execution_count": null,
   "metadata": {},
   "outputs": [],
   "source": [
    "labels_org.head()"
   ]
  },
  {
   "cell_type": "markdown",
   "metadata": {},
   "source": [
    "## Images"
   ]
  },
  {
   "cell_type": "code",
   "execution_count": null,
   "metadata": {},
   "outputs": [],
   "source": [
    "dataset = []\n",
    "\n",
    "for img_file in os.listdir(images_path):\n",
    "    if img_file.endswith(('.png', '.jpg', '.jpeg', '.bmp', '.gif')):\n",
    "        image_number = int(re.split(r'[_\\.]', img_file)[1]) # image number from image name( name such as : image_number.format )\n",
    "        image_class  = labels_org[image_number - 1].values[0] # minus 1 : mat file columns are zero index\n",
    "        img_path = os.path.join(images_path, img_file)\n",
    "        image_dict = {\n",
    "            'image_path' : img_path,\n",
    "            'category'   : image_class\n",
    "        }\n",
    "\n",
    "        dataset.append(image_dict)"
   ]
  },
  {
   "cell_type": "code",
   "execution_count": null,
   "metadata": {},
   "outputs": [],
   "source": [
    "dataset"
   ]
  },
  {
   "cell_type": "markdown",
   "metadata": {},
   "source": [
    "## Statistics"
   ]
  },
  {
   "cell_type": "code",
   "execution_count": null,
   "metadata": {},
   "outputs": [],
   "source": [
    "labels_df = labels_org.transpose()"
   ]
  },
  {
   "cell_type": "code",
   "execution_count": null,
   "metadata": {},
   "outputs": [],
   "source": [
    "labels_df.describe().loc[['count','min','max']]"
   ]
  },
  {
   "cell_type": "code",
   "execution_count": null,
   "metadata": {},
   "outputs": [],
   "source": [
    "\"\"\"\n",
    "Number of Classes : 102\n",
    "Number of Images  : 8189\n",
    "\"\"\""
   ]
  },
  {
   "cell_type": "markdown",
   "metadata": {},
   "source": [
    "## Data Distribution"
   ]
  },
  {
   "cell_type": "code",
   "execution_count": null,
   "metadata": {},
   "outputs": [],
   "source": [
    "labels_df['count'] = 1\n",
    "class_count = labels_df.groupby(0).count()['count']"
   ]
  },
  {
   "cell_type": "code",
   "execution_count": null,
   "metadata": {},
   "outputs": [],
   "source": [
    "class_count.describe()"
   ]
  },
  {
   "cell_type": "code",
   "execution_count": null,
   "metadata": {},
   "outputs": [],
   "source": [
    "save_path = '../Results/Categories/Charts'\n",
    "\n",
    "if not os.path.exists(save_path):\n",
    "    os.makedirs(save_path)"
   ]
  },
  {
   "cell_type": "code",
   "execution_count": null,
   "metadata": {},
   "outputs": [],
   "source": [
    "plt.figure(figsize=(12,6))\n",
    "plt.title('Data Distribution')\n",
    "plt.xlabel('Category')\n",
    "plt.ylabel('Count')\n",
    "plt.bar([x for x in range(1,103)],class_count)\n",
    "filename = os.path.join(save_path, 'Data Distribution.jpg')\n",
    "plt.savefig(filename, bbox_inches='tight', dpi=300)\n",
    "plt.show()\n",
    "plt.close('all')"
   ]
  },
  {
   "cell_type": "markdown",
   "metadata": {},
   "source": [
    "## Data Visualization"
   ]
  },
  {
   "cell_type": "markdown",
   "metadata": {},
   "source": [
    "### Group data by Category"
   ]
  },
  {
   "cell_type": "code",
   "execution_count": null,
   "metadata": {},
   "outputs": [],
   "source": [
    "dataset_df = pd.DataFrame(dataset)\n",
    "dataset_df.to_json('../Files/dataframe.json', orient='records', lines=True) # save dataset for next steps\n",
    "grouped    = dataset_df.groupby('category')"
   ]
  },
  {
   "cell_type": "markdown",
   "metadata": {},
   "source": [
    "### same categories data plot"
   ]
  },
  {
   "cell_type": "code",
   "execution_count": null,
   "metadata": {},
   "outputs": [],
   "source": [
    "\"\"\"\n",
    "102 category => 102 rows and 4 columns\n",
    "\"\"\"\n",
    "\n",
    "save_path = '../Results/Categories/Visualization'\n",
    "\n",
    "if not os.path.exists(save_path):\n",
    "    os.mkdir(save_path)\n",
    "\n",
    "for category, group in grouped:\n",
    "    fig, axes = plt.subplots(nrows=1, ncols=4, figsize=(12, 3))\n",
    "    fig.suptitle(f'Category {category}', fontsize=12)\n",
    "    for i in range(4):\n",
    "        img = plt.imread(group['image_path'].tolist()[i])\n",
    "        axes[i].imshow(img)\n",
    "        axes[i].axis('off')\n",
    "    plt.tight_layout()\n",
    "    plt.show()\n",
    "    filename = os.path.join(save_path, f'{category}.jpg')\n",
    "    fig.savefig(filename, bbox_inches='tight', dpi=300)\n",
    "plt.close('all')"
   ]
  },
  {
   "cell_type": "markdown",
   "metadata": {},
   "source": [
    "### Different Categories Visualization"
   ]
  },
  {
   "cell_type": "code",
   "execution_count": null,
   "metadata": {},
   "outputs": [],
   "source": [
    "\"\"\"\n",
    "102 category => 13 rows and 8 columns\n",
    "\"\"\"\n",
    "\n",
    "fig, axes = plt.subplots(nrows=13, ncols=8, figsize=(18, 18))\n",
    "axes = axes.flatten()\n",
    "\n",
    "\n",
    "for ax, (category, group) in zip(axes,grouped):\n",
    "    img = plt.imread(group['image_path'].tolist()[0])\n",
    "    ax.imshow(img)\n",
    "    ax.axis('off')\n",
    "    ax.set_title(f'Category {category}', fontsize=8)\n",
    "    \n",
    "for ax in axes[102:]:\n",
    "    ax.axis('off')\n",
    "\n",
    "plt.tight_layout()\n",
    "plt.show()\n",
    "filename = os.path.join(save_path, 'All_Categories.jpg')\n",
    "fig.savefig(filename, bbox_inches='tight', dpi=300)\n",
    "plt.close('all')"
   ]
  },
  {
   "cell_type": "markdown",
   "metadata": {},
   "source": [
    "### Channels Distribution"
   ]
  },
  {
   "cell_type": "code",
   "execution_count": null,
   "metadata": {},
   "outputs": [],
   "source": [
    "channel_means = {}\n",
    "for category, group in grouped:\n",
    "    group_images = group['image_path'].tolist()\n",
    "    category_images = []\n",
    "    for img_path in group_images:\n",
    "        img = Image.open(img_path)\n",
    "        img = np.array(img)\n",
    "        category_images.append(img)\n",
    "    red_channel = np.concatenate([img[:,:,0].ravel() for img in category_images])\n",
    "    green_channel = np.concatenate([img[:,:,1].ravel() for img in category_images])\n",
    "    blue_channel = np.concatenate([img[:,:,2].ravel() for img in category_images])\n",
    "    channel_means[category] = {\n",
    "        'red': np.mean(red_channel),\n",
    "        'green': np.mean(green_channel),\n",
    "        'blue': np.mean(blue_channel)\n",
    "    }"
   ]
  },
  {
   "cell_type": "code",
   "execution_count": null,
   "metadata": {},
   "outputs": [],
   "source": [
    "save_path = '../Results/Categories/Charts'\n",
    "\n",
    "if not os.path.exists(save_path):\n",
    "    os.mkdir(save_path)\n",
    "\n",
    "labels = list(channel_means.keys())\n",
    "\n",
    "red_means   = [channel_means[cls]['red'] for cls in labels]\n",
    "green_means = [channel_means[cls]['green'] for cls in labels]\n",
    "blue_means  = [channel_means[cls]['blue'] for cls in labels]\n",
    "\n",
    "x = np.arange(len(labels))\n",
    "width = 0.5\n",
    "\n",
    "colors = {\n",
    "    'red'  : '#FF9999',  \n",
    "    'green': '#99FF99',\n",
    "    'blue' : '#9999FF'  \n",
    "}\n",
    "fig, ax = plt.subplots(figsize=(16, 6))\n",
    "\n",
    "ax.bar(x, red_means, width, color=colors['red'], label='Red Channel')\n",
    "ax.bar(x, green_means, width, bottom=red_means, color=colors['green'], label='Green Channel')\n",
    "ax.bar(x, blue_means, width, bottom=np.array(red_means) + np.array(green_means), color=colors['blue'], label='Blue Channel')\n",
    "\n",
    "ax.set_xlabel('Categories')\n",
    "ax.set_ylabel('Mean Pixel Value')\n",
    "ax.set_title('Mean Pixel Value by Channel for Each Categoriy')\n",
    "ax.set_xticks(x)\n",
    "ax.set_xticklabels(labels, rotation=90)\n",
    "ax.legend()\n",
    "filename = os.path.join(save_path, 'Color Distribution.jpg')\n",
    "plt.savefig(filename, dpi=300)\n",
    "plt.show()\n",
    "\n",
    "plt.close('all')"
   ]
  },
  {
   "cell_type": "code",
   "execution_count": null,
   "metadata": {},
   "outputs": [],
   "source": [
    "fig, ax = plt.subplots(figsize=(16, 6))\n",
    "\n",
    "ax.bar(x, red_means, width, color=colors['red'], label='Red Channel')\n",
    "\n",
    "ax.set_xlabel('Categories')\n",
    "ax.set_ylabel('Mean Pixel Value')\n",
    "ax.set_title('Mean Pixel Value by Red Channel for Each Categoriy')\n",
    "ax.set_xticks(x)\n",
    "ax.set_xticklabels(labels, rotation=90)\n",
    "ax.legend()\n",
    "filename = os.path.join(save_path, 'Red channel Distribution.jpg')\n",
    "plt.savefig(filename, dpi=300)\n",
    "plt.show()\n",
    "\n",
    "plt.close('all')"
   ]
  },
  {
   "cell_type": "code",
   "execution_count": null,
   "metadata": {},
   "outputs": [],
   "source": [
    "fig, ax = plt.subplots(figsize=(16, 6))\n",
    "\n",
    "ax.bar(x, green_means, width, color=colors['green'], label='Green Channel')\n",
    "\n",
    "ax.set_xlabel('Categories')\n",
    "ax.set_ylabel('Mean Pixel Value')\n",
    "ax.set_title('Mean Pixel Value by Green Channel for Each Categoriy')\n",
    "ax.set_xticks(x)\n",
    "ax.set_xticklabels(labels, rotation=90)\n",
    "ax.legend()\n",
    "filename = os.path.join(save_path, 'Green Color Distribution.jpg')\n",
    "plt.savefig(filename, dpi=300)\n",
    "plt.show()\n",
    "\n",
    "plt.close('all')"
   ]
  },
  {
   "cell_type": "code",
   "execution_count": null,
   "metadata": {},
   "outputs": [],
   "source": [
    "fig, ax = plt.subplots(figsize=(16, 6))\n",
    "\n",
    "ax.bar(x, blue_means, width, color=colors['blue'], label='Blue Channel')\n",
    "\n",
    "ax.set_xlabel('Categories')\n",
    "ax.set_ylabel('Mean Pixel Value')\n",
    "ax.set_title('Mean Pixel Value by Blue Channel for Each Categoriy')\n",
    "ax.set_xticks(x)\n",
    "ax.set_xticklabels(labels, rotation=90)\n",
    "ax.legend()\n",
    "filename = os.path.join(save_path, 'Blue Color Distribution.jpg')\n",
    "plt.savefig(filename, dpi=300)\n",
    "plt.show()\n",
    "\n",
    "plt.close('all')"
   ]
  },
  {
   "cell_type": "code",
   "execution_count": null,
   "metadata": {},
   "outputs": [],
   "source": [
    "gray_scales = {}\n",
    "for category, group in grouped:\n",
    "    group_images = group['image_path'].tolist()\n",
    "    category_images = []\n",
    "    for img_path in group_images:\n",
    "        img = Image.open(img_path)\n",
    "        img = ImageOps.grayscale(img)\n",
    "        img = np.array(img)\n",
    "        category_images.append(img)\n",
    "    channel = np.concatenate([img.ravel() for img in category_images])\n",
    "    gray_scales[category] = {\n",
    "        'gray_scale': np.mean(channel)\n",
    "    }"
   ]
  },
  {
   "cell_type": "code",
   "execution_count": null,
   "metadata": {},
   "outputs": [],
   "source": [
    "save_path = '../Results/Categories/Charts'\n",
    "\n",
    "if not os.path.exists(save_path):\n",
    "    os.mkdir(save_path)\n",
    "\n",
    "labels = list(gray_scales.keys())\n",
    "\n",
    "means = [gray_scales[cls]['gray_scale'] for cls in labels]\n",
    "\n",
    "x = np.arange(len(labels))\n",
    "width = 0.5\n",
    "\n",
    "fig, ax = plt.subplots(figsize=(16, 6))\n",
    "\n",
    "ax.bar(x, means, width, color='gray', label='GrayScale')\n",
    "\n",
    "ax.set_xlabel('Categories')\n",
    "ax.set_ylabel('Mean Pixel Value')\n",
    "ax.set_title('Mean Pixel Value by GrayScale for Each Categoriy')\n",
    "ax.set_xticks(x)\n",
    "ax.set_xticklabels(labels, rotation=90)\n",
    "ax.legend()\n",
    "filename = os.path.join(save_path, 'GrayScale Distribution.jpg')\n",
    "plt.savefig(filename, dpi=300)\n",
    "plt.show()\n",
    "\n",
    "plt.close('all')"
   ]
  }
 ],
 "metadata": {
  "kernelspec": {
   "display_name": "Python 3",
   "language": "python",
   "name": "python3"
  },
  "language_info": {
   "codemirror_mode": {
    "name": "ipython",
    "version": 3
   },
   "file_extension": ".py",
   "mimetype": "text/x-python",
   "name": "python",
   "nbconvert_exporter": "python",
   "pygments_lexer": "ipython3",
   "version": "3.10.7"
  }
 },
 "nbformat": 4,
 "nbformat_minor": 2
}
