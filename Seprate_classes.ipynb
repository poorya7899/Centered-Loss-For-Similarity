{
 "cells": [
  {
   "cell_type": "code",
   "execution_count": 15,
   "metadata": {},
   "outputs": [],
   "source": [
    "import os\n",
    "import json"
   ]
  },
  {
   "cell_type": "code",
   "execution_count": 16,
   "metadata": {},
   "outputs": [],
   "source": [
    "destination_path = '../Files/Dataset'\n",
    "dataset_info     = '../Files/dataframe.json'"
   ]
  },
  {
   "cell_type": "code",
   "execution_count": 17,
   "metadata": {},
   "outputs": [],
   "source": [
    "if not os.path.exists(destination_path):\n",
    "    os.mkdir(destination_path)"
   ]
  },
  {
   "cell_type": "code",
   "execution_count": 29,
   "metadata": {},
   "outputs": [],
   "source": [
    "import shutil\n",
    "with open(dataset_info) as f:\n",
    "    for line in f:\n",
    "        sample = json.loads(line)\n",
    "        file_name = sample['image_path'].split('\\\\')[-1]\n",
    "        dest   = os.path.join(destination_path,f'{sample[\"category\"]}')\n",
    "        if not os.path.exists(dest):\n",
    "            os.mkdir(dest)\n",
    "        dest   = os.path.join(dest,file_name)\n",
    "        shutil.copy(sample[\"image_path\"],dest)"
   ]
  }
 ],
 "metadata": {
  "kernelspec": {
   "display_name": "Python 3",
   "language": "python",
   "name": "python3"
  },
  "language_info": {
   "codemirror_mode": {
    "name": "ipython",
    "version": 3
   },
   "file_extension": ".py",
   "mimetype": "text/x-python",
   "name": "python",
   "nbconvert_exporter": "python",
   "pygments_lexer": "ipython3",
   "version": "3.10.7"
  }
 },
 "nbformat": 4,
 "nbformat_minor": 2
}
